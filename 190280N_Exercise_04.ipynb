{
 "cells": [
  {
   "cell_type": "code",
   "execution_count": null,
   "metadata": {},
   "outputs": [],
   "source": [
    "import matplotlib.pyplot as plt\n",
    "import numpy as np\n",
    "from mpl_toolkits.mplot3d import Axes3D\n",
    "from matplotlib import cm\n",
    "from matplotlib.ticker import LinearLocator, FormatStrFormatter\n",
    "\n",
    "fig=plt.figure(figsize=(10,10))\n",
    "ax=fig.add_subplot(111,projection='3d')\n",
    "sigma =1\n",
    "step=0.1\n",
    "x_=np.arange(-5,5+step,step)\n",
    "y_=np.arange(-5,5+step,step)\n",
    "xx,yy=np.meshgrid(x_,y_)\n",
    "z=(1/2*np.pi*sigma**2)*np.exp(-(xx**2+yy**2)/2*sigma**2)\n",
    "fz_dx=np.diff\n",
    "surf=ax.plot_surface(xx,yy,z,cmap=cm.jet,linewidth=0,antialiased=True)\n",
    "ax.zaxis.set_major_locator(LinearLocator(10))\n",
    "ax.zaxis.set_major_formatter(FormatStrFormatter('%.02f'))\n",
    "cset=ax.contourf(xx,yy,z,zdir='z',offset=np.min(z)-1.5,cmap=cm.jet)\n",
    "ax.set_zlim(np.min(z)-2,np.max(z))\n",
    "plt.axis('off')\n",
    "plt.show()"
   ]
  },
  {
   "cell_type": "code",
   "execution_count": null,
   "metadata": {},
   "outputs": [],
   "source": [
    "import cv2 as cv\n",
    "import numpy as np\n",
    "import math\n",
    "hi_threshold_max = 255\n",
    "title_window = \"Canny\"\n",
    "\n",
    "ratio=0.3\n",
    "hi_threshold = 255\n",
    "low_threshold = math.floor(hi_threshold*ratio)\n",
    "\n",
    "def on_tracker(val):\n",
    "    hi_threshold = cv.getTrackerPos(trackerbar1_name,title_window)\n",
    "    ratio=cv.getTrackbarPos(trackbar2_name,title_window)/100\n",
    "    low_threshold=hi_threshold*ratio\n",
    "    edges = cv.Canny(im,low_threshold,hi_threshold)\n",
    "    cv.imshow(title_window,edges)\n",
    "\n",
    "im= cv.imread(r'Assignment Images/building.tif')\n",
    "assert im is not None\n",
    "\n",
    "cv.namedWindow(title_window)\n",
    "trackbar1_name = \"High Threshold Value\"\n",
    "cv.createTrackbar(trackerbar1_name,title_window,hi_threshold,hi_threshold_max,on_trackbar)\n",
    "on_trackbar(hi_threshold)\n",
    "cv.waitKey()\n",
    "cv.destroyAllWindows()"
   ]
  }
 ],
 "metadata": {
  "language_info": {
   "name": "python"
  },
  "orig_nbformat": 4
 },
 "nbformat": 4,
 "nbformat_minor": 2
}
