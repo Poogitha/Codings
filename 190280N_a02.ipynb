{
 "cells": [
  {
   "cell_type": "markdown",
   "metadata": {},
   "source": [
    "                                       EN2550 - Fundamentals of Image Processing and Machine Vision\n",
    "                                                         Assignment 2"
   ]
  },
  {
   "cell_type": "markdown",
   "metadata": {},
   "source": [
    "Index Number : 190280N                    \n",
    "Name : Jegakumaran P.                \n",
    "Github Link : "
   ]
  },
  {
   "cell_type": "code",
   "execution_count": 2,
   "metadata": {},
   "outputs": [
    {
     "data": {
      "image/png": "[encoded data removed]",
      "text/plain": [
       "<Figure size 432x288 with 1 Axes>"
      ]
     },
     "metadata": {
      "needs_background": "light"
     },
     "output_type": "display_data"
    }
   ],
   "source": [
    "#Question 1\n",
    "import numpy as np\n",
    "from scipy . optimize import minimize\n",
    "from scipy import linalg\n",
    "import matplotlib . pyplot as plt\n",
    "from skimage.measure import CircleModel, ransac\n",
    "# np.random.seed(0)\n",
    "N = 100\n",
    "half_n = N//2\n",
    "r = 10\n",
    "s = r/16\n",
    "t = np.random.uniform(0,2*np.pi,half_n)\n",
    "n = s*np.random.randn(half_n)\n",
    "x , y = (r+n)*np.cos(t),(r+n)*np.sin(t)\n",
    "X_circ = np.hstack((x.reshape(half_n,1),y.reshape(half_n,1)))\n",
    "m, b = -1,2\n",
    "x = np.linspace(-12,12,half_n)\n",
    "y = m*x+b+s*np.random.randn(half_n)\n",
    "X_line = np.hstack((x.reshape(half_n,1),y.reshape(half_n,1)))\n",
    "X = np.vstack((X_circ,X_line))\n",
    "fig,ax=plt.subplots()\n",
    "ax.scatter(X[:,0],X[:,1])\n",
    "plt.show()"
   ]
  },
  {
   "cell_type": "code",
   "execution_count": null,
   "metadata": {},
   "outputs": [],
   "source": [
    "# robustly fit line only using inlier data with RANSAC algorithm\n",
    "model_robust, inliers = ransac(X, CircleModel, min_samples=2,residual_threshold=1, max_trials=1000)\n",
    "outliers = inliers == False\n",
    "\n",
    "# generate coordinates of estimated models\n",
    "line_x=np.arange(-12,12)\n",
    "line_y = model.predict_xy(line_x)\n",
    "line_y_robust = model_robust.predict_xy(X_circ)\n",
    "\n",
    "fig, ax = plt.subplots()\n",
    "ax.plot(X[inliers, 0], X[inliers, 1], '.b', alpha=0.6,\n",
    "        label='Inlier data')\n",
    "ax.plot(X[outliers, 0], X[outliers, 1], '.r', alpha=0.6,\n",
    "        label='Outlier data')\n",
    "#ax.plot(X_circ, line_y, '-k', label='Line model from all data')\n",
    "#ax.plot(X_circ, line_y_robust, '-b', label='Robust line model')\n",
    "#ax.legend(loc='lower left')"
   ]
  }
 ],
 "metadata": {
  "interpreter": {
   "hash": "e922dd073470bdcc017ae3abd31d6491d6ed7bf31c1d559806e5511bfea88b81"
  },
  "kernelspec": {
   "display_name": "Python 3.10.2 64-bit",
   "language": "python",
   "name": "python3"
  },
  "language_info": {
   "codemirror_mode": {
    "name": "ipython",
    "version": 3
   },
   "file_extension": ".py",
   "mimetype": "text/x-python",
   "name": "python",
   "nbconvert_exporter": "python",
   "pygments_lexer": "ipython3",
   "version": "3.10.2"
  },
  "orig_nbformat": 4
 },
 "nbformat": 4,
 "nbformat_minor": 2
}
