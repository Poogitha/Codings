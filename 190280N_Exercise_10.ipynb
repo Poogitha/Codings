{
 "cells": [
  {
   "cell_type": "markdown",
   "metadata": {},
   "source": [
    "Name : Jegakumaran P.          \n",
    "Index Number : 190280N"
   ]
  },
  {
   "cell_type": "code",
   "execution_count": null,
   "metadata": {
    "vscode": {
     "languageId": "plaintext"
    }
   },
   "outputs": [],
   "source": [
    "import numpy as np\n",
    "def f(x):\n",
    "    return x**2 - 6*x + 9\n",
    "def g(x):\n",
    "    return 2*x - 6\n",
    "\n",
    "alpha = 0.1\n",
    "x = 1\n",
    "x_hist = np.array(x)\n",
    "for i in range():\n"
   ]
  }
 ],
 "metadata": {
  "language_info": {
   "name": "python"
  },
  "orig_nbformat": 4
 },
 "nbformat": 4,
 "nbformat_minor": 2
}
