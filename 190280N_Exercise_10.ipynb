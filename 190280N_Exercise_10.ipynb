{
 "cells": [
  {
   "cell_type": "markdown",
   "metadata": {},
   "source": [
    "Name : Jegakumaran P.          \n",
    "Index Number : 190280N"
   ]
  },
  {
   "cell_type": "code",
   "execution_count": null,
   "metadata": {},
   "outputs": [],
   "source": [
    "import numpy as np\n",
    "import matplotlib.pyplot as plt\n",
    "\n",
    "def f(x):\n",
    "    w = np.array([1,-1,-12,15,5])\n",
    "    M = np.size(w) - 1\n",
    "    return np.sum([x**i*w[M-i] for i in range(0,M+1)],axis=0)\n",
    "def g(x):\n",
    "    w = np.array([1,-1,-12,15,5])\n",
    "    M = np.size(w) - 1\n",
    "    return np.sum([x**i*w[M-i] for i in range(0,M+1)],axis=0)\n",
    "alpha = 0.1\n",
    "x = 1\n",
    "x_hist = np.array(x)\n",
    "for i in range(20):\n",
    "    x = x - alpha*g(x)\n",
    "    x_hist = np.append(x_hist,x)\n",
    "    fx_hist = np.append(fx_hist,f(x))\n",
    "print('x = ', x,'\\n','f(x) = ',)\n"
   ]
  },
  {
   "cell_type": "code",
   "execution_count": null,
   "metadata": {},
   "outputs": [],
   "source": [
    "#Finding root close to x0\n",
    "from scipy.optimize import fsolve"
   ]
  },
  {
   "cell_type": "code",
   "execution_count": null,
   "metadata": {},
   "outputs": [],
   "source": [
    "import tensorflow as tf\n",
    "from tensorflow import keras\n",
    "import matplotlib . pyplot as plt\n",
    "from tensorflow . keras . datasets import cifar10 , mnist\n",
    "\n",
    "( x_train , y_train ) , ( x_test , y_test ) = cifar10 . load_data ( )\n",
    "# ( x_train , y_train ) , ( x_test , y_test ) = mnist . load_data ( )\n",
    "print ( \" x_train => \" , x_train . shape )\n",
    "Ntr = x_train . shape [ 0 ]\n",
    "Nte = x_test . shape [ 0 ]\n",
    "Din = 3072 # CIFAR10\n",
    "# Din = 784 # MINIST\n",
    "x_train = x_train [ range ( Ntr ) , : ]\n",
    "x_test = x_test [ range ( Nte ) , : ]\n",
    "y_train = y_train [ range ( Ntr ) ]\n",
    "y_test = y_test [ range ( Nte ) ]"
   ]
  },
  {
   "cell_type": "code",
   "execution_count": null,
   "metadata": {},
   "outputs": [],
   "source": [
    "# Utility function for diaplaying\n",
    "def display(y_train, y_test, y_train_pred, y_test_pred, loss_history, w, showim = True):\n",
    "    plt.plot(loss_history)\n",
    "\n",
    "\n",
    "     # For diapaying the weights matrix w as an image. 32*32*3 assumption is there\n",
    "    if showim:\n",
    "        f, axarr = plt.subplots(2, 5)\n",
    "        f.set_size_inches(16, 6)        \n",
    "        for i in range(10):\n",
    "            img = w[:, i].reshape(32, 32, 3)# CIFAR10\n",
    "            # img = w1[:, i].reshape(28, 28)# MNIST    \n",
    "            img = (img - np.amin(img))/(np.amax(img) - np.amin(img))\n",
    "            axarr[i//5, i%5].imshow(img)\n",
    "        plt.show()\n",
    "\n",
    "    train_acc = np.mean(np.abs(np.argmax(y_train, axis=1) == np.argmax(y_train_pred, axis=1)))\n",
    "    print(\"train_acc = \", train_acc)\n",
    "\n",
    "    test_acc = np.mean(np.abs(np.argmax(y_test, axis=1) == np.argmax(y_test_pred, axis=1)))\n",
    "    print(\"test_acc = \", test_acc)\n"
   ]
  },
  {
   "cell_type": "code",
   "execution_count": null,
   "metadata": {},
   "outputs": [],
   "source": []
  }
 ],
 "metadata": {
  "interpreter": {
   "hash": "fbe58ca63fe33f9eeae9e71d10368d2b4a57f2b1b395836210cc60d362c66949"
  },
  "kernelspec": {
   "display_name": "Python 3.10.2 64-bit",
   "language": "python",
   "name": "python3"
  },
  "language_info": {
   "name": "python",
   "version": "3.10.2"
  },
  "orig_nbformat": 4
 },
 "nbformat": 4,
 "nbformat_minor": 2
}
